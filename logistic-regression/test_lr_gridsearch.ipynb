{
 "cells": [
  {
   "cell_type": "markdown",
   "metadata": {},
   "source": [
    "# Handwritten Digits Recognition using Logistic Regression"
   ]
  },
  {
   "cell_type": "code",
   "execution_count": 1,
   "metadata": {},
   "outputs": [],
   "source": [
    "import numpy as np\n",
    "import pandas as pd\n",
    "import joblib\n",
    "from sklearn.model_selection import train_test_split, KFold, GridSearchCV\n",
    "from sklearn.linear_model import LogisticRegression\n",
    "from sklearn.preprocessing import StandardScaler\n",
    "from sklearn.decomposition import PCA\n",
    "from sklearn.metrics import accuracy_score, multilabel_confusion_matrix\n",
    "from sklearn.pipeline import Pipeline\n",
    "import matplotlib.pyplot as plt"
   ]
  },
  {
   "cell_type": "code",
   "execution_count": 2,
   "metadata": {},
   "outputs": [],
   "source": [
    "# split dataset into 50/50 according to custom in Digits dataset\n",
    "X_train = np.load('/Users/noaschwensfeier/python_ml/Machine_learning_Project/dataset/X_train.npy')\n",
    "y_train = np.load('/Users/noaschwensfeier/python_ml/Machine_learning_Project/dataset/y_train.npy')"
   ]
  },
  {
   "cell_type": "code",
   "execution_count": 3,
   "metadata": {},
   "outputs": [],
   "source": [
    "#specify instances of classes for each processing step\n",
    "scaler = StandardScaler()\n",
    "pca = PCA(svd_solver='auto')\n",
    "classifier = LogisticRegression(max_iter=500, multi_class='multinomial')\n",
    "\n",
    "#combine in pipeline\n",
    "pipe = Pipeline(steps=[('scaler', scaler), ('pca', pca), ('classifier', classifier)])"
   ]
  },
  {
   "cell_type": "code",
   "execution_count": 4,
   "metadata": {},
   "outputs": [],
   "source": [
    "#specify parameter space to search\n",
    "param_grid = {\n",
    "    'pca__n_components': np.linspace(2, 10, 8, dtype=int),\n",
    "}"
   ]
  },
  {
   "cell_type": "code",
   "execution_count": 5,
   "metadata": {},
   "outputs": [
    {
     "name": "stdout",
     "output_type": "stream",
     "text": [
      "Fitting 5 folds for each of 8 candidates, totalling 40 fits\n",
      "[CV 2/5] END ...............pca__n_components=2;, score=0.605 total time=   0.2s\n",
      "[CV 1/5] END ...............pca__n_components=2;, score=0.570 total time=   0.2s\n",
      "[CV 3/5] END ...............pca__n_components=2;, score=0.590 total time=   0.5s\n",
      "[CV 4/5] END ...............pca__n_components=2;, score=0.570 total time=   0.5s\n",
      "[CV 5/5] END ...............pca__n_components=2;, score=0.585 total time=   0.5s\n",
      "[CV 1/5] END ...............pca__n_components=3;, score=0.640 total time=   0.5s\n",
      "[CV 3/5] END ...............pca__n_components=3;, score=0.710 total time=   0.4s\n",
      "[CV 2/5] END ...............pca__n_components=3;, score=0.745 total time=   0.5s\n",
      "[CV 4/5] END ...............pca__n_components=3;, score=0.710 total time=   0.2s\n",
      "[CV 5/5] END ...............pca__n_components=3;, score=0.770 total time=   0.3s\n",
      "[CV 1/5] END ...............pca__n_components=4;, score=0.715 total time=   0.4s\n",
      "[CV 2/5] END ...............pca__n_components=4;, score=0.805 total time=   0.5s\n",
      "[CV 3/5] END ...............pca__n_components=4;, score=0.820 total time=   0.3s\n",
      "[CV 4/5] END ...............pca__n_components=4;, score=0.785 total time=   0.3s\n",
      "[CV 5/5] END ...............pca__n_components=4;, score=0.825 total time=   0.2s\n",
      "[CV 1/5] END ...............pca__n_components=5;, score=0.740 total time=   0.3s\n",
      "[CV 2/5] END ...............pca__n_components=5;, score=0.835 total time=   0.3s\n",
      "[CV 3/5] END ...............pca__n_components=5;, score=0.830 total time=   0.5s\n",
      "[CV 4/5] END ...............pca__n_components=5;, score=0.830 total time=   0.4s\n",
      "[CV 5/5] END ...............pca__n_components=5;, score=0.815 total time=   0.4s\n",
      "[CV 1/5] END ...............pca__n_components=6;, score=0.815 total time=   0.4s\n",
      "[CV 2/5] END ...............pca__n_components=6;, score=0.880 total time=   0.5s\n",
      "[CV 3/5] END ...............pca__n_components=6;, score=0.890 total time=   0.6s\n",
      "[CV 4/5] END ...............pca__n_components=6;, score=0.890 total time=   0.8s\n",
      "[CV 5/5] END ...............pca__n_components=6;, score=0.880 total time=   0.9s\n",
      "[CV 1/5] END ...............pca__n_components=7;, score=0.880 total time=   0.4s\n",
      "[CV 2/5] END ...............pca__n_components=7;, score=0.905 total time=   0.3s\n",
      "[CV 3/5] END ...............pca__n_components=7;, score=0.920 total time=   0.4s\n",
      "[CV 4/5] END ...............pca__n_components=7;, score=0.880 total time=   0.4s\n",
      "[CV 5/5] END ...............pca__n_components=7;, score=0.895 total time=   0.4s\n",
      "[CV 1/5] END ...............pca__n_components=8;, score=0.900 total time=   0.3s\n",
      "[CV 2/5] END ...............pca__n_components=8;, score=0.910 total time=   0.3s\n",
      "[CV 3/5] END ...............pca__n_components=8;, score=0.925 total time=   0.3s\n",
      "[CV 4/5] END ...............pca__n_components=8;, score=0.880 total time=   0.4s\n",
      "[CV 5/5] END ...............pca__n_components=8;, score=0.920 total time=   0.5s\n",
      "[CV 1/5] END ..............pca__n_components=10;, score=0.895 total time=   0.3s\n",
      "[CV 2/5] END ..............pca__n_components=10;, score=0.945 total time=   0.3s\n",
      "[CV 3/5] END ..............pca__n_components=10;, score=0.950 total time=   0.3s\n",
      "[CV 4/5] END ..............pca__n_components=10;, score=0.925 total time=   0.3s\n",
      "[CV 5/5] END ..............pca__n_components=10;, score=0.935 total time=   0.2s\n"
     ]
    },
    {
     "data": {
      "text/plain": [
       "GridSearchCV(cv=5,\n",
       "             estimator=Pipeline(steps=[('scaler', StandardScaler()),\n",
       "                                       ('pca', PCA()),\n",
       "                                       ('classifier',\n",
       "                                        LogisticRegression(max_iter=500,\n",
       "                                                           multi_class='multinomial'))]),\n",
       "             n_jobs=2,\n",
       "             param_grid={'pca__n_components': array([ 2,  3,  4,  5,  6,  7,  8, 10])},\n",
       "             verbose=4)"
      ]
     },
     "execution_count": 5,
     "metadata": {},
     "output_type": "execute_result"
    }
   ],
   "source": [
    "search = GridSearchCV(pipe, param_grid=param_grid, n_jobs=2, cv=5, verbose=4, refit=True)\n",
    "search.fit(X_train, y_train)"
   ]
  },
  {
   "cell_type": "code",
   "execution_count": 6,
   "metadata": {},
   "outputs": [
    {
     "name": "stdout",
     "output_type": "stream",
     "text": [
      "Best parameter (CV score=0.930):\n",
      "{'pca__n_components': 10}\n"
     ]
    }
   ],
   "source": [
    "print(\"Best parameter (CV score=%0.3f):\" % search.best_score_)\n",
    "print(search.best_params_)"
   ]
  },
  {
   "cell_type": "code",
   "execution_count": 7,
   "metadata": {},
   "outputs": [
    {
     "data": {
      "text/plain": [
       "0.969"
      ]
     },
     "execution_count": 7,
     "metadata": {},
     "output_type": "execute_result"
    }
   ],
   "source": [
    "search.best_estimator_.score(X_train, y_train)"
   ]
  },
  {
   "cell_type": "code",
   "execution_count": 8,
   "metadata": {},
   "outputs": [
    {
     "data": {
      "text/plain": [
       "['lr_optimal.joblib']"
      ]
     },
     "execution_count": 8,
     "metadata": {},
     "output_type": "execute_result"
    }
   ],
   "source": [
    "joblib.dump(search.best_estimator_, 'lr_optimal.joblib')"
   ]
  },
  {
   "cell_type": "code",
   "execution_count": 9,
   "metadata": {},
   "outputs": [
    {
     "name": "stdout",
     "output_type": "stream",
     "text": [
      "   mean_fit_time  std_fit_time  mean_score_time  std_score_time  \\\n",
      "0       0.382061      0.158283         0.002033        0.000476   \n",
      "1       0.359876      0.116450         0.003088        0.001352   \n",
      "2       0.340940      0.103788         0.002229        0.001304   \n",
      "3       0.397264      0.090593         0.003976        0.004244   \n",
      "4       0.649411      0.180984         0.003298        0.001896   \n",
      "5       0.358652      0.029090         0.001926        0.000468   \n",
      "6       0.348344      0.066294         0.002511        0.001009   \n",
      "7       0.266402      0.022320         0.002726        0.001915   \n",
      "\n",
      "  param_pca__n_components                     params  split0_test_score  \\\n",
      "0                       2   {'pca__n_components': 2}              0.570   \n",
      "1                       3   {'pca__n_components': 3}              0.640   \n",
      "2                       4   {'pca__n_components': 4}              0.715   \n",
      "3                       5   {'pca__n_components': 5}              0.740   \n",
      "4                       6   {'pca__n_components': 6}              0.815   \n",
      "5                       7   {'pca__n_components': 7}              0.880   \n",
      "6                       8   {'pca__n_components': 8}              0.900   \n",
      "7                      10  {'pca__n_components': 10}              0.895   \n",
      "\n",
      "   split1_test_score  split2_test_score  split3_test_score  split4_test_score  \\\n",
      "0              0.605              0.590              0.570              0.585   \n",
      "1              0.745              0.710              0.710              0.770   \n",
      "2              0.805              0.820              0.785              0.825   \n",
      "3              0.835              0.830              0.830              0.815   \n",
      "4              0.880              0.890              0.890              0.880   \n",
      "5              0.905              0.920              0.880              0.895   \n",
      "6              0.910              0.925              0.880              0.920   \n",
      "7              0.945              0.950              0.925              0.935   \n",
      "\n",
      "   mean_test_score  std_test_score  rank_test_score  \n",
      "0            0.584        0.013191                8  \n",
      "1            0.715        0.043818                7  \n",
      "2            0.790        0.040000                6  \n",
      "3            0.810        0.035637                5  \n",
      "4            0.871        0.028355                4  \n",
      "5            0.896        0.015297                3  \n",
      "6            0.907        0.016000                2  \n",
      "7            0.930        0.019494                1  \n"
     ]
    }
   ],
   "source": [
    "#print(search.cv_results_)\n",
    "results = pd.DataFrame(search.cv_results_)\n",
    "print(results)\n",
    "results.to_csv('lr_optimal.csv', sep=',', header=True)"
   ]
  }
 ],
 "metadata": {
  "interpreter": {
   "hash": "489704e59d384f193e4647ebb52ec77296f6839aecc5575d1c198c44c9cdfb9f"
  },
  "kernelspec": {
   "display_name": "Python 3.10.0 64-bit ('ml-env': conda)",
   "language": "python",
   "name": "python3"
  },
  "language_info": {
   "codemirror_mode": {
    "name": "ipython",
    "version": 3
   },
   "file_extension": ".py",
   "mimetype": "text/x-python",
   "name": "python",
   "nbconvert_exporter": "python",
   "pygments_lexer": "ipython3",
   "version": "3.10.0"
  },
  "orig_nbformat": 4
 },
 "nbformat": 4,
 "nbformat_minor": 2
}
