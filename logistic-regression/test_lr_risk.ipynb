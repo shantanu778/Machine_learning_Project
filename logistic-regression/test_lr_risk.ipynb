{
 "cells": [
  {
   "cell_type": "code",
   "execution_count": 19,
   "metadata": {},
   "outputs": [],
   "source": [
    "import numpy as np\n",
    "import pandas as pd\n",
    "import joblib"
   ]
  },
  {
   "cell_type": "code",
   "execution_count": 20,
   "metadata": {},
   "outputs": [
    {
     "name": "stdout",
     "output_type": "stream",
     "text": [
      "Pipeline(steps=[('scaler', StandardScaler()), ('pca', PCA(n_components=10)),\n",
      "                ('classifier',\n",
      "                 LogisticRegression(max_iter=500, multi_class='multinomial'))])\n"
     ]
    }
   ],
   "source": [
    "classifier = joblib.load('lr_optimal.joblib')\n",
    "print(classifier)"
   ]
  },
  {
   "cell_type": "code",
   "execution_count": 21,
   "metadata": {},
   "outputs": [
    {
     "name": "stdout",
     "output_type": "stream",
     "text": [
      "   Unnamed: 0  mean_fit_time  std_fit_time  mean_score_time  std_score_time  \\\n",
      "0           0       0.382061      0.158283         0.002033        0.000476   \n",
      "1           1       0.359876      0.116450         0.003088        0.001352   \n",
      "2           2       0.340940      0.103788         0.002229        0.001304   \n",
      "3           3       0.397264      0.090593         0.003976        0.004244   \n",
      "4           4       0.649411      0.180984         0.003298        0.001896   \n",
      "5           5       0.358652      0.029090         0.001926        0.000468   \n",
      "6           6       0.348344      0.066294         0.002511        0.001009   \n",
      "7           7       0.266402      0.022320         0.002726        0.001915   \n",
      "\n",
      "   param_pca__n_components                     params  split0_test_score  \\\n",
      "0                        2   {'pca__n_components': 2}              0.570   \n",
      "1                        3   {'pca__n_components': 3}              0.640   \n",
      "2                        4   {'pca__n_components': 4}              0.715   \n",
      "3                        5   {'pca__n_components': 5}              0.740   \n",
      "4                        6   {'pca__n_components': 6}              0.815   \n",
      "5                        7   {'pca__n_components': 7}              0.880   \n",
      "6                        8   {'pca__n_components': 8}              0.900   \n",
      "7                       10  {'pca__n_components': 10}              0.895   \n",
      "\n",
      "   split1_test_score  split2_test_score  split3_test_score  split4_test_score  \\\n",
      "0              0.605              0.590              0.570              0.585   \n",
      "1              0.745              0.710              0.710              0.770   \n",
      "2              0.805              0.820              0.785              0.825   \n",
      "3              0.835              0.830              0.830              0.815   \n",
      "4              0.880              0.890              0.890              0.880   \n",
      "5              0.905              0.920              0.880              0.895   \n",
      "6              0.910              0.925              0.880              0.920   \n",
      "7              0.945              0.950              0.925              0.935   \n",
      "\n",
      "   mean_test_score  std_test_score  rank_test_score  \n",
      "0            0.584        0.013191                8  \n",
      "1            0.715        0.043818                7  \n",
      "2            0.790        0.040000                6  \n",
      "3            0.810        0.035637                5  \n",
      "4            0.871        0.028355                4  \n",
      "5            0.896        0.015297                3  \n",
      "6            0.907        0.016000                2  \n",
      "7            0.930        0.019494                1  \n"
     ]
    }
   ],
   "source": [
    "results = pd.read_csv('lr_optimal.csv', sep=',')\n",
    "print(results)"
   ]
  },
  {
   "cell_type": "code",
   "execution_count": 22,
   "metadata": {},
   "outputs": [
    {
     "data": {
      "text/plain": [
       "0.969"
      ]
     },
     "execution_count": 22,
     "metadata": {},
     "output_type": "execute_result"
    }
   ],
   "source": [
    "X_train = np.load('../dataset/X_train.npy')\n",
    "y_train = np.load('../dataset/y_train.npy')\n",
    "classifier.score(X_train, y_train)"
   ]
  },
  {
   "cell_type": "code",
   "execution_count": 23,
   "metadata": {},
   "outputs": [
    {
     "data": {
      "text/plain": [
       "0.924"
      ]
     },
     "execution_count": 23,
     "metadata": {},
     "output_type": "execute_result"
    }
   ],
   "source": [
    "X_test = np.load('../dataset/X_test.npy')\n",
    "y_test = np.load('../dataset/y_test.npy')\n",
    "classifier.score(X_test, y_test)"
   ]
  }
 ],
 "metadata": {
  "interpreter": {
   "hash": "489704e59d384f193e4647ebb52ec77296f6839aecc5575d1c198c44c9cdfb9f"
  },
  "kernelspec": {
   "display_name": "Python 3.10.0 64-bit ('ml-env': conda)",
   "language": "python",
   "name": "python3"
  },
  "language_info": {
   "codemirror_mode": {
    "name": "ipython",
    "version": 3
   },
   "file_extension": ".py",
   "mimetype": "text/x-python",
   "name": "python",
   "nbconvert_exporter": "python",
   "pygments_lexer": "ipython3",
   "version": "3.10.0"
  },
  "orig_nbformat": 4
 },
 "nbformat": 4,
 "nbformat_minor": 2
}
