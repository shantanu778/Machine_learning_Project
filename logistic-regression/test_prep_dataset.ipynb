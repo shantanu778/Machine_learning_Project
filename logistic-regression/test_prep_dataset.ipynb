{
 "cells": [
  {
   "cell_type": "code",
   "execution_count": 26,
   "metadata": {},
   "outputs": [],
   "source": [
    "import numpy as np\n",
    "import pandas as pd"
   ]
  },
  {
   "cell_type": "code",
   "execution_count": 27,
   "metadata": {},
   "outputs": [
    {
     "name": "stdout",
     "output_type": "stream",
     "text": [
      "(1000, 240)\n"
     ]
    }
   ],
   "source": [
    "X_train = np.load('/Users/noaschwensfeier/python_ml/Machine_learning_Project/dataset/X_train.npy')\n",
    "print(X_train.shape)"
   ]
  },
  {
   "cell_type": "code",
   "execution_count": 28,
   "metadata": {},
   "outputs": [
    {
     "name": "stdout",
     "output_type": "stream",
     "text": [
      "(1000,)\n"
     ]
    }
   ],
   "source": [
    "y_train = np.load('/Users/noaschwensfeier/python_ml/Machine_learning_Project/dataset/y_train.npy')\n",
    "print(y_train.shape)"
   ]
  },
  {
   "cell_type": "code",
   "execution_count": 29,
   "metadata": {},
   "outputs": [
    {
     "name": "stdout",
     "output_type": "stream",
     "text": [
      "(1000, 240)\n"
     ]
    }
   ],
   "source": [
    "X_test = np.load('/Users/noaschwensfeier/python_ml/Machine_learning_Project/dataset/X_test.npy')\n",
    "print(X_test.shape)"
   ]
  },
  {
   "cell_type": "code",
   "execution_count": 30,
   "metadata": {},
   "outputs": [
    {
     "name": "stdout",
     "output_type": "stream",
     "text": [
      "(1000,)\n"
     ]
    }
   ],
   "source": [
    "y_test = np.load('/Users/noaschwensfeier/python_ml/Machine_learning_Project/dataset/y_test.npy')\n",
    "print(y_test.shape)"
   ]
  }
 ],
 "metadata": {
  "interpreter": {
   "hash": "489704e59d384f193e4647ebb52ec77296f6839aecc5575d1c198c44c9cdfb9f"
  },
  "kernelspec": {
   "display_name": "Python 3.10.0 64-bit ('ml-env': conda)",
   "language": "python",
   "name": "python3"
  },
  "language_info": {
   "codemirror_mode": {
    "name": "ipython",
    "version": 3
   },
   "file_extension": ".py",
   "mimetype": "text/x-python",
   "name": "python",
   "nbconvert_exporter": "python",
   "pygments_lexer": "ipython3",
   "version": "3.10.0"
  },
  "orig_nbformat": 4
 },
 "nbformat": 4,
 "nbformat_minor": 2
}
