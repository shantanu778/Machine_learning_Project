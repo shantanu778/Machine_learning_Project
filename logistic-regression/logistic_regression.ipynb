{
 "cells": [
  {
   "cell_type": "code",
   "execution_count": 49,
   "metadata": {},
   "outputs": [],
   "source": [
    "import numpy as np\n",
    "from PIL import Image, ImageOps\n",
    "from sklearn.model_selection import train_test_split, KFold\n",
    "from sklearn.linear_model import LogisticRegression\n",
    "from sklearn.preprocessing import StandardScaler\n",
    "from sklearn.decomposition import PCA\n",
    "import matplotlib.pyplot as plt"
   ]
  },
  {
   "cell_type": "code",
   "execution_count": 50,
   "metadata": {},
   "outputs": [],
   "source": [
    "def split_digits(X, y):\n",
    "    '''\n",
    "    Implementing the customary split of the Digits dataset into \n",
    "    1000 training and 1000 testing examples. Rows 0-100 are\n",
    "    training examples, 101-200 are testing examples, 201-300\n",
    "    are training examples, and so on.\n",
    "    ---------------\n",
    "    Input arguments: \n",
    "    X:  matrix of dimension 2000 x 240\n",
    "        contains intensity values of 240 pixels for 2000\n",
    "        greyscale images of digits, values range from [0,6]\n",
    "    y:  vector of length 2000\n",
    "        contains labels {0,1,2,3,4,5,6,7,8,9}\n",
    "    '''\n",
    "\n",
    "    X_train = np.array(X[0:100])\n",
    "    y_train = np.array(y[0:100])\n",
    "\n",
    "    end = 300\n",
    "    for i in range(9):\n",
    "        start = end - 100\n",
    "        X_train = np.append(X_train, X[start:end], axis=0)\n",
    "        y_train = np.append(y_train, y[start:end], axis=0)\n",
    "        end += 200 \n",
    "\n",
    "    X_test = np.array(X[100:200])\n",
    "    y_test = np.array(y[100:200])\n",
    "\n",
    "    end = 400\n",
    "    for i in range(9):\n",
    "        start = end - 100\n",
    "        X_test = np.append(X_test, X[start:end], axis=0)\n",
    "        y_test = np.append(y_test, y[start:end], axis=0)\n",
    "        end += 200 \n",
    "\n",
    "    return X_train, y_train, X_test, y_test"
   ]
  },
  {
   "cell_type": "code",
   "execution_count": 51,
   "metadata": {},
   "outputs": [
    {
     "name": "stdout",
     "output_type": "stream",
     "text": [
      "240\n"
     ]
    }
   ],
   "source": [
    "# import dataset\n",
    "with open('/Users/noaschwensfeier/ML_PYTHON/Machine_learning_Project/dataset.txt','r') as data:\n",
    "    X = [line.strip().split(\"  \") for line in data]\n",
    "    y = [i for i in range(10) for j in range(200)] # create labels\n",
    "\n",
    "X = np.array(X, dtype=np.int32)\n",
    "y = np.array(y)\n",
    "#print(X.shape)\n",
    "#print(y.shape)\n",
    "\n",
    "N = X.shape[0]\n",
    "n = X.shape[1]\n",
    "print(n)\n"
   ]
  },
  {
   "cell_type": "code",
   "execution_count": 52,
   "metadata": {},
   "outputs": [],
   "source": [
    "# split dataset into 50/50 according to custom in Digits dataset\n",
    "X_train, y_train, X_test, y_test = split_digits(X,y)"
   ]
  },
  {
   "cell_type": "code",
   "execution_count": 6,
   "metadata": {},
   "outputs": [
    {
     "name": "stdout",
     "output_type": "stream",
     "text": [
      "[  2.   3.   4.   5.   6.   7.   8.   9.  10.  11.  12.  13.  14.  15.\n",
      "  16.  17.  18.  19.  20.  21.  22.  23.  24.  25.  26.  27.  28.  29.\n",
      "  30.  31.  32.  33.  34.  35.  36.  37.  38.  39.  40.  41.  42.  43.\n",
      "  44.  45.  46.  47.  48.  49.  50.  51.  52.  53.  54.  55.  56.  57.\n",
      "  58.  59.  60.  61.  62.  63.  64.  65.  66.  67.  68.  69.  70.  71.\n",
      "  72.  73.  74.  75.  76.  77.  78.  79.  80.  81.  82.  83.  84.  85.\n",
      "  86.  87.  88.  89.  90.  91.  92.  93.  94.  95.  96.  97.  98.  99.\n",
      " 100. 101. 102. 103. 104. 105. 106. 107. 108. 109. 110. 111. 112. 113.\n",
      " 114. 115. 116. 117. 118. 119. 120. 121. 122. 123. 124. 125. 126. 127.\n",
      " 128. 129. 130. 131. 132. 133. 134. 135. 136. 137. 138. 139. 140. 141.\n",
      " 142. 143. 144. 145. 146. 147. 148. 149. 150. 151. 152. 153. 154. 155.\n",
      " 156. 157. 158. 159. 160. 161. 162. 163. 164. 165. 166. 167. 168. 169.\n",
      " 170. 171. 172. 173. 174. 175. 176. 177. 178. 179. 180. 181. 182. 183.\n",
      " 184. 185. 186. 187. 188. 189. 190. 191. 192. 193. 194. 195. 196. 197.\n",
      " 198. 199. 200. 201. 202. 203. 204. 205. 206. 207. 208. 209. 210. 211.\n",
      " 212. 213. 214. 215. 216. 217. 218. 219. 220. 221. 222. 223. 224. 225.\n",
      " 226. 227. 228. 229. 230. 231. 232. 233. 234. 235. 236. 237. 238. 239.\n",
      " 240.]\n"
     ]
    }
   ],
   "source": [
    "#C_list = [0.001, 0.01, 0.1, 1] #regularization\n",
    "n_comp_list = np.linspace(2,240, 240-1)\n",
    "results = np.empty((240, 3))\n",
    "colnames = ['n_comp', 'empirical_risk', 'risk']\n",
    "iter = 0\n",
    "\n",
    "#for c in C_list: \n",
    "\n",
    "for  n_comp in n_comp_list:\n",
    "\n",
    "    n_comp = int(n_comp)\n",
    "    \n",
    "    # dimensionality reduction \n",
    "    pca = PCA(n_components=n_comp, svd_solver='full')\n",
    "    X_cmpr = pca.fit_transform(X_train)\n",
    "\n",
    "    # logistic regression\n",
    "    classifier = LogisticRegression(penalty='l2', solver='saga', tol=.1, multi_class='multinomial')\n",
    "    classifier.fit(X_cmpr, y_train) #fit to train data\n",
    "    #train_score = classifier.score(X_cmpr, y_train) #calculate train acc\n",
    "\n",
    "    X_cmpr_test = pca.transform(X_test) #project test data to same lower-dim space\n",
    "    test_score = classifier.score(X_cmpr_test, y_test) #calculate test acc\n",
    "\n",
    "    results[iter, 0] = n_comp\n",
    "    #results[iter, 1] = train_score\n",
    "    results[iter, 2] = test_score\n",
    "\n",
    "    iter +=1"
   ]
  },
  {
   "cell_type": "code",
   "execution_count": 7,
   "metadata": {},
   "outputs": [
    {
     "data": {
      "text/plain": [
       "[<matplotlib.lines.Line2D at 0x7ff271762920>]"
      ]
     },
     "execution_count": 7,
     "metadata": {},
     "output_type": "execute_result"
    },
    {
     "data": {
      "image/png": "[encoded data removed]",
      "text/plain": [
       "<Figure size 432x288 with 1 Axes>"
      ]
     },
     "metadata": {
      "needs_background": "light"
     },
     "output_type": "display_data"
    }
   ],
   "source": [
    "#print(results)\n",
    "#plt.plot(range(240), results[:,1], color='blue')\n",
    "plt.plot(range(240), results[:,2], color='red')"
   ]
  },
  {
   "cell_type": "code",
   "execution_count": 56,
   "metadata": {},
   "outputs": [],
   "source": [
    "n_comp_list = np.linspace(2,240, 240-1)\n",
    "results = np.empty((10, 240-1, 2)) #k-folds x n_comp x results\n",
    "colnames = ['n_comp', 'empirical_risk', 'risk']\n",
    "n_iter = 0\n",
    "k_iter = 0\n",
    "\n",
    "kf = KFold(n_splits=10, shuffle=True, random_state=42)\n",
    "\n",
    "for  n_comp in n_comp_list:\n",
    "\n",
    "    n_comp = int(n_comp)\n",
    "\n",
    "    for train_index, test_index in kf.split(X_train):\n",
    "        #print(\"TRAIN:\", train_index, \"TEST:\", test_index)\n",
    "        X_train_tmp, X_test_tmp = X_train[train_index], X_train[test_index]\n",
    "        y_train_tmp, y_test_tmp = y_train[train_index], y_train[test_index]\n",
    "    \n",
    "        # dimensionality reduction \n",
    "        pca = PCA(n_components=n_comp, svd_solver='full')\n",
    "        X_train_cmpr = pca.fit_transform(X_train_tmp)\n",
    "\n",
    "        # logistic regression\n",
    "        classifier = LogisticRegression(penalty='l2', solver='saga', tol=.1, multi_class='multinomial')\n",
    "        classifier.fit(X_train_cmpr, y_train_tmp) #fit to train data\n",
    "        train_score = classifier.score(X_train_cmpr, y_train_tmp) #calculate train acc\n",
    "\n",
    "        X_test_cmpr = pca.transform(X_test_tmp) #project test data to same lower-dim space\n",
    "        test_score = classifier.score(X_test_cmpr, y_test_tmp) #calculate test acc\n",
    "\n",
    "        results[k_iter, n_iter, 0] = train_score\n",
    "        results[k_iter, n_iter, 1] = test_score\n",
    "\n",
    "        if k_iter == 0:\n",
    "            k_iter += 1\n",
    "        elif k_iter % 9 == 0:\n",
    "            k_iter = 0\n",
    "        else:\n",
    "            k_iter += 1\n",
    "\n",
    "    n_iter += 1"
   ]
  },
  {
   "cell_type": "code",
   "execution_count": 61,
   "metadata": {},
   "outputs": [
    {
     "name": "stdout",
     "output_type": "stream",
     "text": [
      "(239, 2)\n"
     ]
    },
    {
     "data": {
      "text/plain": [
       "[<matplotlib.lines.Line2D at 0x7ff2713dbd00>]"
      ]
     },
     "execution_count": 61,
     "metadata": {},
     "output_type": "execute_result"
    },
    {
     "data": {
      "image/png": "[encoded data removed]",
      "text/plain": [
       "<Figure size 432x288 with 1 Axes>"
      ]
     },
     "metadata": {
      "needs_background": "light"
     },
     "output_type": "display_data"
    }
   ],
   "source": [
    "avg_results = np.empty((240-1,2))\n",
    "avg_results = np.mean(results, axis=0)\n",
    "print(avg_results.shape)\n",
    "\n",
    "#print(results)\n",
    "plt.plot(range(240-1), avg_results[:,0], color='blue', label='train error')\n",
    "plt.plot(range(240-1), avg_results[:,1], color='red', label='test error')"
   ]
  }
 ],
 "metadata": {
  "interpreter": {
   "hash": "489704e59d384f193e4647ebb52ec77296f6839aecc5575d1c198c44c9cdfb9f"
  },
  "kernelspec": {
   "display_name": "Python 3.10.0 64-bit ('ml-env': conda)",
   "language": "python",
   "name": "python3"
  },
  "language_info": {
   "codemirror_mode": {
    "name": "ipython",
    "version": 3
   },
   "file_extension": ".py",
   "mimetype": "text/x-python",
   "name": "python",
   "nbconvert_exporter": "python",
   "pygments_lexer": "ipython3",
   "version": "3.10.0"
  },
  "orig_nbformat": 4
 },
 "nbformat": 4,
 "nbformat_minor": 2
}
